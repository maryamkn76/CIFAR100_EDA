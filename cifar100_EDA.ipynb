{
  "cells": [
    {
      "cell_type": "code",
      "execution_count": null,
      "metadata": {
        "id": "ELeeVRuhgw7H"
      },
      "outputs": [],
      "source": [
        "import torch"
      ]
    },
    {
      "cell_type": "code",
      "execution_count": null,
      "metadata": {
        "id": "Xc3sRW-wg8gS"
      },
      "outputs": [],
      "source": [
        "from torchvision.datasets import CIFAR100\n",
        "from torchvision.transforms import ToTensor"
      ]
    },
    {
      "cell_type": "code",
      "execution_count": null,
      "metadata": {
        "id": "WRf2sHRphqHe"
      },
      "outputs": [],
      "source": [
        "transform=ToTensor()"
      ]
    },
    {
      "cell_type": "code",
      "execution_count": null,
      "metadata": {
        "colab": {
          "base_uri": "https://localhost:8080/"
        },
        "id": "1dFJt0T2hSNE",
        "outputId": "82bd163b-0207-4283-8443-99ef407cb57a"
      },
      "outputs": [
        {
          "name": "stdout",
          "output_type": "stream",
          "text": [
            "Downloading https://www.cs.toronto.edu/~kriz/cifar-100-python.tar.gz to ./data_cifar100/cifar-100-python.tar.gz\n"
          ]
        },
        {
          "name": "stderr",
          "output_type": "stream",
          "text": [
            "100%|██████████| 169M/169M [00:11<00:00, 14.9MB/s]\n"
          ]
        },
        {
          "name": "stdout",
          "output_type": "stream",
          "text": [
            "Extracting ./data_cifar100/cifar-100-python.tar.gz to ./data_cifar100\n",
            "Files already downloaded and verified\n"
          ]
        }
      ],
      "source": [
        "cifar100_train=CIFAR100(root='./data_cifar100',train=True,download=True,transform=transform)\n",
        "cifar100_test=CIFAR100(root='./data_cifar100',train=False,download=True,transform=transform)"
      ]
    },
    {
      "cell_type": "code",
      "execution_count": null,
      "metadata": {
        "id": "q0RzV75QiSDg"
      },
      "outputs": [],
      "source": [
        "from torch.utils.data import DataLoader"
      ]
    },
    {
      "cell_type": "code",
      "execution_count": null,
      "metadata": {
        "id": "JOrmNbOpih4m"
      },
      "outputs": [],
      "source": [
        "train_loader=DataLoader(cifar100_train,batch_size=16)\n",
        "test_loader=DataLoader(cifar100_test,batch_size=16)"
      ]
    },
    {
      "cell_type": "code",
      "execution_count": null,
      "metadata": {
        "id": "TOIo_1FYjC4s"
      },
      "outputs": [],
      "source": [
        "for train_item in train_loader:\n",
        "  pass"
      ]
    },
    {
      "cell_type": "code",
      "execution_count": null,
      "metadata": {
        "colab": {
          "base_uri": "https://localhost:8080/"
        },
        "id": "uPK02As2jrq7",
        "outputId": "b39c4597-06e0-4e36-f124-7229a2a7f8da"
      },
      "outputs": [
        {
          "data": {
            "text/plain": [
              "list"
            ]
          },
          "execution_count": 10,
          "metadata": {},
          "output_type": "execute_result"
        }
      ],
      "source": [
        "type(train_item)"
      ]
    },
    {
      "cell_type": "code",
      "execution_count": null,
      "metadata": {
        "colab": {
          "base_uri": "https://localhost:8080/"
        },
        "id": "Wdq33iMojylf",
        "outputId": "fb396cec-7b00-4f78-c6bd-6b3f924c5850"
      },
      "outputs": [
        {
          "data": {
            "text/plain": [
              "2"
            ]
          },
          "execution_count": 12,
          "metadata": {},
          "output_type": "execute_result"
        }
      ],
      "source": [
        "len(train_item)"
      ]
    },
    {
      "cell_type": "code",
      "execution_count": null,
      "metadata": {
        "colab": {
          "base_uri": "https://localhost:8080/"
        },
        "id": "jje5nthIkCsH",
        "outputId": "b6f4a142-88b1-4845-954f-28e5594fa749"
      },
      "outputs": [
        {
          "data": {
            "text/plain": [
              "torch.Size([16, 3, 32, 32])"
            ]
          },
          "execution_count": 13,
          "metadata": {},
          "output_type": "execute_result"
        }
      ],
      "source": [
        "train_item[0].shape"
      ]
    },
    {
      "cell_type": "code",
      "execution_count": null,
      "metadata": {
        "colab": {
          "base_uri": "https://localhost:8080/"
        },
        "id": "oFAx5N9VkJH2",
        "outputId": "9ab493c5-4a4e-4231-e2c2-216a7640a828"
      },
      "outputs": [
        {
          "data": {
            "text/plain": [
              "torch.Size([16])"
            ]
          },
          "execution_count": 14,
          "metadata": {},
          "output_type": "execute_result"
        }
      ],
      "source": [
        "train_item[1].shape"
      ]
    },
    {
      "cell_type": "code",
      "execution_count": null,
      "metadata": {
        "colab": {
          "base_uri": "https://localhost:8080/"
        },
        "id": "X-6zDHq7kMqA",
        "outputId": "431b6b9d-c9ed-4d74-cd4f-32027cb25636"
      },
      "outputs": [
        {
          "data": {
            "text/plain": [
              "tensor([45, 48, 20, 34, 87, 64, 26, 16, 53, 33, 97, 80,  7,  3,  7, 73])"
            ]
          },
          "execution_count": 15,
          "metadata": {},
          "output_type": "execute_result"
        }
      ],
      "source": [
        "train_item[1]"
      ]
    },
    {
      "cell_type": "code",
      "execution_count": null,
      "metadata": {
        "colab": {
          "base_uri": "https://localhost:8080/"
        },
        "id": "7t7IyZpzkR5T",
        "outputId": "7d040f45-6931-4601-dd27-a691fb6035c6"
      },
      "outputs": [
        {
          "data": {
            "text/plain": [
              "tensor([[[[0.4353, 0.4353, 0.3686,  ..., 0.6314, 0.6471, 0.4745],\n",
              "          [0.4275, 0.4431, 0.4039,  ..., 0.6039, 0.6078, 0.4000],\n",
              "          [0.3569, 0.4039, 0.3804,  ..., 0.4941, 0.4000, 0.3608],\n",
              "          ...,\n",
              "          [0.8824, 0.7961, 0.7412,  ..., 0.7647, 0.7255, 0.7686],\n",
              "          [0.9176, 0.8157, 0.7255,  ..., 0.7843, 0.8588, 0.8745],\n",
              "          [0.9333, 0.8275, 0.7020,  ..., 0.9176, 0.9098, 0.9098]],\n",
              "\n",
              "         [[0.5608, 0.5804, 0.4941,  ..., 0.7059, 0.7216, 0.5216],\n",
              "          [0.5373, 0.5843, 0.5412,  ..., 0.6627, 0.6863, 0.4745],\n",
              "          [0.4196, 0.5137, 0.5059,  ..., 0.5529, 0.4863, 0.4667],\n",
              "          ...,\n",
              "          [0.8510, 0.6941, 0.6235,  ..., 0.6235, 0.7176, 0.8039],\n",
              "          [0.8980, 0.7059, 0.5765,  ..., 0.7804, 0.9137, 0.9176],\n",
              "          [0.8902, 0.6863, 0.5098,  ..., 0.9451, 0.9490, 0.9412]],\n",
              "\n",
              "         [[0.6196, 0.6118, 0.5098,  ..., 0.7529, 0.7569, 0.5294],\n",
              "          [0.5843, 0.6118, 0.5490,  ..., 0.6941, 0.7255, 0.5059],\n",
              "          [0.4588, 0.5529, 0.5137,  ..., 0.5843, 0.5373, 0.5176],\n",
              "          ...,\n",
              "          [0.7333, 0.5098, 0.4353,  ..., 0.3843, 0.6235, 0.8235],\n",
              "          [0.8118, 0.5333, 0.3843,  ..., 0.6824, 0.8980, 0.9569],\n",
              "          [0.7961, 0.5020, 0.3020,  ..., 0.9333, 0.9529, 0.9843]]],\n",
              "\n",
              "\n",
              "        [[[0.2941, 0.3804, 0.3686,  ..., 0.4863, 0.5059, 0.5255],\n",
              "          [0.3176, 0.3451, 0.2784,  ..., 0.5882, 0.5255, 0.5647],\n",
              "          [0.2314, 0.2196, 0.2157,  ..., 0.6275, 0.5961, 0.5882],\n",
              "          ...,\n",
              "          [0.7255, 0.6980, 0.6510,  ..., 0.7294, 0.7137, 0.6745],\n",
              "          [0.5765, 0.5255, 0.4863,  ..., 0.6314, 0.6157, 0.6157],\n",
              "          [0.3294, 0.3059, 0.3569,  ..., 0.6314, 0.6353, 0.6471]],\n",
              "\n",
              "         [[0.3725, 0.4471, 0.4275,  ..., 0.5059, 0.5255, 0.5451],\n",
              "          [0.3804, 0.3686, 0.2902,  ..., 0.5725, 0.5255, 0.5647],\n",
              "          [0.2549, 0.2196, 0.2078,  ..., 0.5843, 0.5765, 0.5882],\n",
              "          ...,\n",
              "          [0.6706, 0.6510, 0.6196,  ..., 0.6392, 0.6275, 0.6157],\n",
              "          [0.5765, 0.5373, 0.5059,  ..., 0.6078, 0.6078, 0.6078],\n",
              "          [0.3569, 0.3490, 0.4039,  ..., 0.6235, 0.6235, 0.6235]],\n",
              "\n",
              "         [[0.1765, 0.2275, 0.2118,  ..., 0.3216, 0.3137, 0.3176],\n",
              "          [0.2235, 0.2235, 0.1569,  ..., 0.3765, 0.3137, 0.3373],\n",
              "          [0.1686, 0.1647, 0.1647,  ..., 0.3765, 0.3608, 0.3490],\n",
              "          ...,\n",
              "          [0.6275, 0.6275, 0.5961,  ..., 0.4941, 0.5373, 0.5569],\n",
              "          [0.5608, 0.5255, 0.5059,  ..., 0.5608, 0.5725, 0.5843],\n",
              "          [0.3725, 0.3529, 0.4196,  ..., 0.6157, 0.6000, 0.5922]]],\n",
              "\n",
              "\n",
              "        [[[1.0000, 1.0000, 1.0000,  ..., 0.9961, 0.9961, 1.0000],\n",
              "          [1.0000, 0.9961, 0.9961,  ..., 0.9725, 0.9765, 0.9882],\n",
              "          [1.0000, 1.0000, 1.0000,  ..., 1.0000, 0.9922, 0.9922],\n",
              "          ...,\n",
              "          [1.0000, 1.0000, 1.0000,  ..., 0.9961, 0.9922, 0.9961],\n",
              "          [1.0000, 1.0000, 1.0000,  ..., 0.9922, 0.9922, 0.9961],\n",
              "          [1.0000, 1.0000, 1.0000,  ..., 0.9922, 0.9922, 0.9961]],\n",
              "\n",
              "         [[1.0000, 1.0000, 1.0000,  ..., 0.9961, 0.9961, 1.0000],\n",
              "          [1.0000, 0.9961, 0.9961,  ..., 0.9922, 0.9922, 0.9961],\n",
              "          [1.0000, 1.0000, 1.0000,  ..., 1.0000, 0.9922, 0.9922],\n",
              "          ...,\n",
              "          [1.0000, 1.0000, 1.0000,  ..., 0.9922, 0.9882, 0.9922],\n",
              "          [1.0000, 1.0000, 1.0000,  ..., 0.9922, 0.9922, 0.9961],\n",
              "          [1.0000, 1.0000, 1.0000,  ..., 0.9922, 0.9922, 0.9961]],\n",
              "\n",
              "         [[1.0000, 1.0000, 1.0000,  ..., 0.9961, 0.9961, 1.0000],\n",
              "          [1.0000, 0.9961, 0.9961,  ..., 1.0000, 0.9961, 0.9961],\n",
              "          [1.0000, 1.0000, 1.0000,  ..., 0.9922, 0.9882, 0.9922],\n",
              "          ...,\n",
              "          [1.0000, 1.0000, 1.0000,  ..., 0.9882, 0.9843, 0.9882],\n",
              "          [1.0000, 1.0000, 1.0000,  ..., 0.9922, 0.9922, 1.0000],\n",
              "          [1.0000, 1.0000, 1.0000,  ..., 0.9961, 0.9961, 1.0000]]],\n",
              "\n",
              "\n",
              "        ...,\n",
              "\n",
              "\n",
              "        [[[0.9725, 0.9412, 0.9255,  ..., 0.9137, 0.9020, 0.9333],\n",
              "          [0.8824, 0.7294, 0.6863,  ..., 0.6392, 0.6118, 0.7529],\n",
              "          [0.8196, 0.5647, 0.5451,  ..., 0.4275, 0.4275, 0.6157],\n",
              "          ...,\n",
              "          [0.6314, 0.1529, 0.1098,  ..., 0.3647, 0.3333, 0.5333],\n",
              "          [0.7098, 0.3373, 0.2784,  ..., 0.4784, 0.4118, 0.5922],\n",
              "          [0.8784, 0.7059, 0.6784,  ..., 0.7686, 0.7176, 0.8000]],\n",
              "\n",
              "         [[0.9569, 0.9098, 0.9098,  ..., 0.8980, 0.8941, 0.9294],\n",
              "          [0.8353, 0.6549, 0.6235,  ..., 0.5804, 0.5647, 0.7216],\n",
              "          [0.7608, 0.4706, 0.4510,  ..., 0.3373, 0.3529, 0.5686],\n",
              "          ...,\n",
              "          [0.6235, 0.1333, 0.0784,  ..., 0.2824, 0.2627, 0.4941],\n",
              "          [0.7020, 0.3255, 0.2667,  ..., 0.4039, 0.3608, 0.5686],\n",
              "          [0.8745, 0.7059, 0.6745,  ..., 0.7333, 0.6980, 0.8039]],\n",
              "\n",
              "         [[0.9490, 0.8745, 0.8745,  ..., 0.8706, 0.8706, 0.9137],\n",
              "          [0.8000, 0.5843, 0.5490,  ..., 0.5255, 0.5216, 0.6902],\n",
              "          [0.7020, 0.3725, 0.3412,  ..., 0.2627, 0.2980, 0.5294],\n",
              "          ...,\n",
              "          [0.6000, 0.1098, 0.0549,  ..., 0.2078, 0.1961, 0.4510],\n",
              "          [0.6745, 0.3020, 0.2431,  ..., 0.3490, 0.3216, 0.5529],\n",
              "          [0.8549, 0.6863, 0.6549,  ..., 0.7059, 0.6824, 0.8039]]],\n",
              "\n",
              "\n",
              "        [[[0.6118, 0.5922, 0.5922,  ..., 0.6078, 0.5961, 0.7294],\n",
              "          [0.4314, 0.4549, 0.4471,  ..., 0.4549, 0.4353, 0.5255],\n",
              "          [0.4549, 0.4863, 0.5020,  ..., 0.3882, 0.3961, 0.5059],\n",
              "          ...,\n",
              "          [0.4275, 0.4392, 0.4627,  ..., 0.4941, 0.4941, 0.5412],\n",
              "          [0.3843, 0.3647, 0.3765,  ..., 0.4392, 0.4275, 0.4980],\n",
              "          [0.6667, 0.6275, 0.6392,  ..., 0.6314, 0.6118, 0.6392]],\n",
              "\n",
              "         [[0.6039, 0.5725, 0.5647,  ..., 0.5882, 0.5804, 0.7216],\n",
              "          [0.4157, 0.4235, 0.3961,  ..., 0.4157, 0.4039, 0.5059],\n",
              "          [0.4392, 0.4627, 0.4627,  ..., 0.3294, 0.3412, 0.4627],\n",
              "          ...,\n",
              "          [0.3961, 0.3922, 0.4118,  ..., 0.4431, 0.4353, 0.4863],\n",
              "          [0.3608, 0.3216, 0.3255,  ..., 0.3765, 0.3608, 0.4431],\n",
              "          [0.6549, 0.6000, 0.5961,  ..., 0.5922, 0.5647, 0.6039]],\n",
              "\n",
              "         [[0.5373, 0.4824, 0.4902,  ..., 0.5059, 0.4902, 0.6392],\n",
              "          [0.3020, 0.2431, 0.2235,  ..., 0.2392, 0.2196, 0.3608],\n",
              "          [0.3216, 0.2588, 0.2627,  ..., 0.1686, 0.1686, 0.3373],\n",
              "          ...,\n",
              "          [0.2902, 0.2118, 0.2431,  ..., 0.2549, 0.2392, 0.3490],\n",
              "          [0.2471, 0.1373, 0.1490,  ..., 0.1843, 0.1765, 0.3137],\n",
              "          [0.5686, 0.4627, 0.4667,  ..., 0.4471, 0.4196, 0.4941]]],\n",
              "\n",
              "\n",
              "        [[[0.1216, 0.1176, 0.1216,  ..., 0.1255, 0.1255, 0.1255],\n",
              "          [0.1137, 0.1098, 0.1176,  ..., 0.1255, 0.1255, 0.1216],\n",
              "          [0.1176, 0.1137, 0.1176,  ..., 0.1255, 0.1216, 0.1176],\n",
              "          ...,\n",
              "          [0.1529, 0.1490, 0.1490,  ..., 0.1529, 0.1490, 0.1529],\n",
              "          [0.1569, 0.1529, 0.1529,  ..., 0.1529, 0.1569, 0.1569],\n",
              "          [0.1569, 0.1569, 0.1569,  ..., 0.1608, 0.1529, 0.1569]],\n",
              "\n",
              "         [[0.2627, 0.2667, 0.2706,  ..., 0.2745, 0.2745, 0.2706],\n",
              "          [0.2667, 0.2706, 0.2706,  ..., 0.2745, 0.2706, 0.2706],\n",
              "          [0.2627, 0.2667, 0.2706,  ..., 0.2824, 0.2745, 0.2706],\n",
              "          ...,\n",
              "          [0.1608, 0.1647, 0.1725,  ..., 0.1725, 0.1647, 0.1608],\n",
              "          [0.1529, 0.1569, 0.1608,  ..., 0.1608, 0.1608, 0.1529],\n",
              "          [0.1529, 0.1529, 0.1529,  ..., 0.1490, 0.1490, 0.1451]],\n",
              "\n",
              "         [[0.4784, 0.4863, 0.4941,  ..., 0.5059, 0.4902, 0.4784],\n",
              "          [0.4941, 0.5020, 0.5098,  ..., 0.5137, 0.4980, 0.4863],\n",
              "          [0.4941, 0.5020, 0.5098,  ..., 0.5176, 0.5098, 0.4980],\n",
              "          ...,\n",
              "          [0.2980, 0.2980, 0.3059,  ..., 0.3098, 0.3020, 0.2980],\n",
              "          [0.2863, 0.2902, 0.2980,  ..., 0.2980, 0.2902, 0.2863],\n",
              "          [0.2745, 0.2784, 0.2824,  ..., 0.2824, 0.2706, 0.2627]]]])"
            ]
          },
          "execution_count": 16,
          "metadata": {},
          "output_type": "execute_result"
        }
      ],
      "source": [
        "train_item[0]"
      ]
    },
    {
      "cell_type": "code",
      "execution_count": null,
      "metadata": {
        "colab": {
          "base_uri": "https://localhost:8080/"
        },
        "id": "psY4iIhXkWK1",
        "outputId": "f030c46a-f711-436f-b415-14fba63bdf36"
      },
      "outputs": [
        {
          "name": "stdout",
          "output_type": "stream",
          "text": [
            "<class 'torch.Tensor'>\n"
          ]
        }
      ],
      "source": [
        "images_np_list=[]\n",
        "labels_np_list=[]\n",
        "for img,label in train_loader:\n",
        "  pass\n",
        "print(type(img))"
      ]
    },
    {
      "cell_type": "code",
      "execution_count": null,
      "metadata": {
        "id": "lAcE0jZ3ljde"
      },
      "outputs": [],
      "source": [
        "import numpy as np\n"
      ]
    },
    {
      "cell_type": "code",
      "execution_count": null,
      "metadata": {
        "id": "ymWd1CQRlXrp"
      },
      "outputs": [],
      "source": [
        "images_np_list=[]\n",
        "labels_np_list=[]\n",
        "for img,label in train_loader:\n",
        "  images_np_list.append(np.array(img.numpy()*255, dtype=np.uint8))\n",
        "  labels_np_list.append(label.numpy())"
      ]
    },
    {
      "cell_type": "code",
      "execution_count": null,
      "metadata": {
        "colab": {
          "base_uri": "https://localhost:8080/"
        },
        "id": "tiVuGbBPl8SF",
        "outputId": "72385503-ae2b-4b7b-ef7e-1311924279d8"
      },
      "outputs": [
        {
          "data": {
            "text/plain": [
              "(16, 3, 32, 32)"
            ]
          },
          "execution_count": 21,
          "metadata": {},
          "output_type": "execute_result"
        }
      ],
      "source": [
        "images_np_list[2].shape"
      ]
    },
    {
      "cell_type": "code",
      "execution_count": null,
      "metadata": {
        "colab": {
          "base_uri": "https://localhost:8080/"
        },
        "id": "mtlU9YFGmKOx",
        "outputId": "7ab5635e-58fb-4b6c-a550-c68b85b43f1c"
      },
      "outputs": [
        {
          "data": {
            "text/plain": [
              "(3, 32, 32)"
            ]
          },
          "execution_count": 22,
          "metadata": {},
          "output_type": "execute_result"
        }
      ],
      "source": [
        "images_np_list[2][3].shape"
      ]
    },
    {
      "cell_type": "code",
      "execution_count": null,
      "metadata": {
        "id": "PrRcNL1fmTbf"
      },
      "outputs": [],
      "source": [
        "images_np_cat=np.concatenate(images_np_list)\n",
        "labels_np_cat=np.concatenate(labels_np_list)"
      ]
    },
    {
      "cell_type": "code",
      "execution_count": null,
      "metadata": {
        "colab": {
          "base_uri": "https://localhost:8080/"
        },
        "id": "W1quxx0InHbT",
        "outputId": "70abcfc6-fecf-431d-c132-fe3d5c8c3da6"
      },
      "outputs": [
        {
          "data": {
            "text/plain": [
              "(50000, 3, 32, 32)"
            ]
          },
          "execution_count": 25,
          "metadata": {},
          "output_type": "execute_result"
        }
      ],
      "source": [
        "images_np_cat.shape"
      ]
    },
    {
      "cell_type": "code",
      "execution_count": null,
      "metadata": {
        "colab": {
          "base_uri": "https://localhost:8080/"
        },
        "id": "2NnAh2uhnMzN",
        "outputId": "c5c6b913-9908-4cc2-fb78-75ebc2e6c214"
      },
      "outputs": [
        {
          "data": {
            "text/plain": [
              "(50000,)"
            ]
          },
          "execution_count": 26,
          "metadata": {},
          "output_type": "execute_result"
        }
      ],
      "source": [
        "labels_np_cat.shape"
      ]
    },
    {
      "cell_type": "code",
      "execution_count": null,
      "metadata": {
        "id": "giokTJU9nQnR"
      },
      "outputs": [],
      "source": [
        "images_np_list_new=[]\n",
        "for image in images_np_cat:\n",
        "  images_np_list_new.append(np.moveaxis(image,0,-1))"
      ]
    },
    {
      "cell_type": "code",
      "execution_count": null,
      "metadata": {
        "colab": {
          "base_uri": "https://localhost:8080/"
        },
        "id": "8wr-dGghoAbs",
        "outputId": "e6359cc4-ff86-4a9e-d121-150e4856bc5b"
      },
      "outputs": [
        {
          "data": {
            "text/plain": [
              "(32, 32, 3)"
            ]
          },
          "execution_count": 28,
          "metadata": {},
          "output_type": "execute_result"
        }
      ],
      "source": [
        "images_np_list_new[0].shape"
      ]
    },
    {
      "cell_type": "code",
      "execution_count": null,
      "metadata": {
        "id": "7ODwXly1oMrx"
      },
      "outputs": [],
      "source": [
        "images_np_new=np.array(images_np_list_new)"
      ]
    },
    {
      "cell_type": "code",
      "execution_count": null,
      "metadata": {
        "colab": {
          "base_uri": "https://localhost:8080/"
        },
        "id": "g9pilR2yoXHe",
        "outputId": "9cce4690-d42e-43c7-b2bd-d88893e78404"
      },
      "outputs": [
        {
          "data": {
            "text/plain": [
              "numpy.ndarray"
            ]
          },
          "execution_count": 30,
          "metadata": {},
          "output_type": "execute_result"
        }
      ],
      "source": [
        "type(labels_np_cat)"
      ]
    },
    {
      "cell_type": "code",
      "execution_count": null,
      "metadata": {
        "id": "a5X5r_fModeV"
      },
      "outputs": [],
      "source": [
        "import matplotlib.pyplot as plt\n"
      ]
    },
    {
      "cell_type": "code",
      "execution_count": null,
      "metadata": {
        "id": "a46YHGZPqJsc"
      },
      "outputs": [],
      "source": [
        "images_to_plot=images_np_new[:9]"
      ]
    },
    {
      "cell_type": "code",
      "execution_count": null,
      "metadata": {
        "colab": {
          "base_uri": "https://localhost:8080/",
          "height": 268
        },
        "id": "ytht5AkbqX_x",
        "outputId": "b2d5d7ca-0f21-4227-9468-7f459ff29ba4"
      },
      "outputs": [
        {
          "data": {
            "image/png": "[encoded data removed]",
            "text/plain": [
              "<Figure size 300x300 with 9 Axes>"
            ]
          },
          "metadata": {},
          "output_type": "display_data"
        }
      ],
      "source": [
        "fig,axes=plt.subplots(3,3,figsize=(3,3))\n",
        "for i ,ax in enumerate(axes.flat):\n",
        "  ax.imshow(images_to_plot[i])\n",
        "  ax.axis('off')\n",
        "plt.show()"
      ]
    },
    {
      "cell_type": "code",
      "execution_count": null,
      "metadata": {
        "colab": {
          "base_uri": "https://localhost:8080/"
        },
        "id": "5N7THdpcrZkb",
        "outputId": "3d37d113-7b31-442c-b6ac-1023bced0b0b"
      },
      "outputs": [
        {
          "data": {
            "text/plain": [
              "array([19, 29,  0, 11,  1, 86, 90, 28, 23])"
            ]
          },
          "execution_count": 35,
          "metadata": {},
          "output_type": "execute_result"
        }
      ],
      "source": [
        "labels_np_cat[:9]"
      ]
    },
    {
      "cell_type": "code",
      "execution_count": null,
      "metadata": {
        "colab": {
          "base_uri": "https://localhost:8080/"
        },
        "id": "OTB3fKBFrgOL",
        "outputId": "b214854b-30c3-493a-d6ce-fc771d959005"
      },
      "outputs": [
        {
          "data": {
            "text/plain": [
              "121.936059453125"
            ]
          },
          "execution_count": 36,
          "metadata": {},
          "output_type": "execute_result"
        }
      ],
      "source": [
        "images_np_new.mean()"
      ]
    },
    {
      "cell_type": "code",
      "execution_count": null,
      "metadata": {
        "colab": {
          "base_uri": "https://localhost:8080/"
        },
        "id": "NW8c1Mmbs8r8",
        "outputId": "522a1962-560f-45c1-b251-832568d1f22e"
      },
      "outputs": [
        {
          "data": {
            "text/plain": [
              "68.38895658894927"
            ]
          },
          "execution_count": 37,
          "metadata": {},
          "output_type": "execute_result"
        }
      ],
      "source": [
        "images_np_new.std()"
      ]
    },
    {
      "cell_type": "code",
      "execution_count": null,
      "metadata": {
        "colab": {
          "base_uri": "https://localhost:8080/"
        },
        "id": "D7zezKjKtCKa",
        "outputId": "88b2d39d-2097-40f3-9803-e12e96e04be2"
      },
      "outputs": [
        {
          "data": {
            "text/plain": [
              "116.0"
            ]
          },
          "execution_count": 38,
          "metadata": {},
          "output_type": "execute_result"
        }
      ],
      "source": [
        "np.median(images_np_new)"
      ]
    },
    {
      "cell_type": "code",
      "execution_count": null,
      "metadata": {
        "colab": {
          "base_uri": "https://localhost:8080/"
        },
        "id": "_NmtFEFNtJc3",
        "outputId": "6496df32-3935-4868-bb72-b4ea8a20ef8e"
      },
      "outputs": [
        {
          "data": {
            "text/plain": [
              "0"
            ]
          },
          "execution_count": 39,
          "metadata": {},
          "output_type": "execute_result"
        }
      ],
      "source": [
        "np.min(images_np_new)"
      ]
    },
    {
      "cell_type": "code",
      "execution_count": null,
      "metadata": {
        "colab": {
          "base_uri": "https://localhost:8080/"
        },
        "id": "MxGWOdjftOvf",
        "outputId": "1a83a20b-2427-46a0-83ba-db143854560d"
      },
      "outputs": [
        {
          "data": {
            "text/plain": [
              "255"
            ]
          },
          "execution_count": 40,
          "metadata": {},
          "output_type": "execute_result"
        }
      ],
      "source": [
        "np.max(images_np_new)"
      ]
    },
    {
      "cell_type": "code",
      "execution_count": null,
      "metadata": {
        "id": "DbdO7V1ctrli"
      },
      "outputs": [],
      "source": [
        "import tqdm"
      ]
    },
    {
      "cell_type": "code",
      "execution_count": null,
      "metadata": {
        "colab": {
          "base_uri": "https://localhost:8080/"
        },
        "id": "mfXu98__tRB-",
        "outputId": "31f58652-9898-44c5-a986-27d06ce62dbf"
      },
      "outputs": [
        {
          "name": "stderr",
          "output_type": "stream",
          "text": [
            "100%|██████████| 50000/50000 [07:46<00:00, 107.17it/s]\n"
          ]
        }
      ],
      "source": [
        "cifar_100_hist=np.zeros(256,dtype=np.int32)\n",
        "for img in tqdm.tqdm(images_np_new):\n",
        "  for i in range(img.shape[0]):\n",
        "    for j in range(img.shape[1]):\n",
        "      for c in range(img.shape[2]):\n",
        "        intensity=img[i,j,c]\n",
        "        cifar_100_hist[intensity]+=1"
      ]
    },
    {
      "cell_type": "code",
      "execution_count": null,
      "metadata": {
        "colab": {
          "base_uri": "https://localhost:8080/",
          "height": 445
        },
        "id": "qqPQh7t2vb46",
        "outputId": "9adf87c5-bfbf-4d04-9568-0f79222feda5"
      },
      "outputs": [
        {
          "data": {
            "image/png": "[encoded data removed]",
            "text/plain": [
              "<Figure size 640x480 with 1 Axes>"
            ]
          },
          "metadata": {},
          "output_type": "display_data"
        }
      ],
      "source": [
        "plt.plot(cifar_100_hist)\n",
        "plt.show()"
      ]
    },
    {
      "cell_type": "code",
      "execution_count": null,
      "metadata": {
        "id": "6XVRzo7kuTDA"
      },
      "outputs": [],
      "source": [
        "for test_item in test_loader:\n",
        "  pass"
      ]
    },
    {
      "cell_type": "code",
      "execution_count": null,
      "metadata": {
        "colab": {
          "base_uri": "https://localhost:8080/"
        },
        "id": "LqpOzYKywSQl",
        "outputId": "ad283680-fceb-4033-9bf4-0906be2ea552"
      },
      "outputs": [
        {
          "data": {
            "text/plain": [
              "[tensor([[[[0.2078, 0.1843, 0.2314,  ..., 0.3569, 0.2980, 0.2980],\n",
              "           [0.1490, 0.1686, 0.1922,  ..., 0.3490, 0.2941, 0.2392],\n",
              "           [0.1647, 0.2706, 0.2157,  ..., 0.3255, 0.3176, 0.2745],\n",
              "           ...,\n",
              "           [0.3686, 0.4431, 0.5255,  ..., 0.2431, 0.2706, 0.3412],\n",
              "           [0.3765, 0.4196, 0.4706,  ..., 0.3451, 0.3804, 0.4039],\n",
              "           [0.3490, 0.3804, 0.4314,  ..., 0.4863, 0.4392, 0.3686]],\n",
              " \n",
              "          [[0.2392, 0.2235, 0.2667,  ..., 0.4000, 0.3373, 0.3294],\n",
              "           [0.1804, 0.2039, 0.2275,  ..., 0.3961, 0.3333, 0.2745],\n",
              "           [0.2000, 0.3059, 0.2510,  ..., 0.3765, 0.3608, 0.3137],\n",
              "           ...,\n",
              "           [0.3843, 0.4588, 0.5333,  ..., 0.2667, 0.3176, 0.4118],\n",
              "           [0.4039, 0.4431, 0.4863,  ..., 0.3725, 0.4353, 0.4863],\n",
              "           [0.3569, 0.3843, 0.4314,  ..., 0.4980, 0.4706, 0.4235]],\n",
              " \n",
              "          [[0.2784, 0.2431, 0.2784,  ..., 0.3373, 0.3059, 0.3294],\n",
              "           [0.2275, 0.2353, 0.2471,  ..., 0.3490, 0.3255, 0.3020],\n",
              "           [0.2275, 0.3373, 0.2784,  ..., 0.3725, 0.3882, 0.3686],\n",
              "           ...,\n",
              "           [0.4235, 0.4941, 0.5647,  ..., 0.2235, 0.2235, 0.2784],\n",
              "           [0.4078, 0.4431, 0.4824,  ..., 0.3059, 0.3255, 0.3412],\n",
              "           [0.3294, 0.3529, 0.3961,  ..., 0.4627, 0.4078, 0.3373]]],\n",
              " \n",
              " \n",
              "         [[[0.6000, 0.5961, 0.6039,  ..., 0.6000, 0.5961, 0.5922],\n",
              "           [0.6039, 0.6000, 0.6078,  ..., 0.6039, 0.6000, 0.5961],\n",
              "           [0.6118, 0.6118, 0.6157,  ..., 0.6118, 0.6078, 0.6039],\n",
              "           ...,\n",
              "           [0.4039, 0.3333, 0.3255,  ..., 0.4667, 0.5098, 0.5059],\n",
              "           [0.4039, 0.3059, 0.2431,  ..., 0.5490, 0.5490, 0.5373],\n",
              "           [0.4392, 0.4000, 0.3373,  ..., 0.5569, 0.5373, 0.5569]],\n",
              " \n",
              "          [[0.7451, 0.7412, 0.7451,  ..., 0.7373, 0.7333, 0.7294],\n",
              "           [0.7451, 0.7412, 0.7451,  ..., 0.7373, 0.7373, 0.7294],\n",
              "           [0.7490, 0.7451, 0.7529,  ..., 0.7490, 0.7412, 0.7373],\n",
              "           ...,\n",
              "           [0.4784, 0.4353, 0.4275,  ..., 0.4627, 0.4980, 0.5020],\n",
              "           [0.4745, 0.3922, 0.3255,  ..., 0.5294, 0.5216, 0.5137],\n",
              "           [0.4941, 0.4510, 0.3804,  ..., 0.5294, 0.5098, 0.5294]],\n",
              " \n",
              "          [[0.8627, 0.8549, 0.8627,  ..., 0.8471, 0.8431, 0.8392],\n",
              "           [0.8588, 0.8510, 0.8627,  ..., 0.8471, 0.8431, 0.8392],\n",
              "           [0.8588, 0.8549, 0.8627,  ..., 0.8549, 0.8510, 0.8471],\n",
              "           ...,\n",
              "           [0.3451, 0.3020, 0.3098,  ..., 0.3843, 0.4157, 0.4157],\n",
              "           [0.3529, 0.2706, 0.2196,  ..., 0.4549, 0.4549, 0.4392],\n",
              "           [0.3882, 0.3529, 0.3020,  ..., 0.4745, 0.4588, 0.4667]]],\n",
              " \n",
              " \n",
              "         [[[0.1255, 0.2784, 0.3725,  ..., 0.2275, 0.1922, 0.2196],\n",
              "           [0.1961, 0.2824, 0.3490,  ..., 0.2275, 0.2078, 0.2588],\n",
              "           [0.2863, 0.2510, 0.3412,  ..., 0.2157, 0.1961, 0.3451],\n",
              "           ...,\n",
              "           [0.2667, 0.3373, 0.3569,  ..., 0.5176, 0.4706, 0.4824],\n",
              "           [0.3059, 0.3490, 0.4235,  ..., 0.5216, 0.5020, 0.5059],\n",
              "           [0.3176, 0.4078, 0.4824,  ..., 0.5294, 0.5333, 0.5529]],\n",
              " \n",
              "          [[0.1373, 0.2745, 0.3529,  ..., 0.3294, 0.2706, 0.2980],\n",
              "           [0.1765, 0.2784, 0.3412,  ..., 0.3255, 0.2745, 0.3294],\n",
              "           [0.2706, 0.2667, 0.3412,  ..., 0.3020, 0.2549, 0.4078],\n",
              "           ...,\n",
              "           [0.2588, 0.3686, 0.4196,  ..., 0.6353, 0.5882, 0.6000],\n",
              "           [0.3059, 0.3961, 0.5137,  ..., 0.6392, 0.6196, 0.6196],\n",
              "           [0.3490, 0.4745, 0.5686,  ..., 0.6471, 0.6510, 0.6667]],\n",
              " \n",
              "          [[0.0275, 0.1725, 0.2627,  ..., 0.0706, 0.0471, 0.0745],\n",
              "           [0.0549, 0.1647, 0.2471,  ..., 0.0588, 0.0353, 0.0863],\n",
              "           [0.1176, 0.1333, 0.2353,  ..., 0.0588, 0.0314, 0.1608],\n",
              "           ...,\n",
              "           [0.0941, 0.1451, 0.1686,  ..., 0.3843, 0.3451, 0.3686],\n",
              "           [0.1373, 0.1686, 0.2549,  ..., 0.3804, 0.3725, 0.3961],\n",
              "           [0.1373, 0.2235, 0.3176,  ..., 0.4039, 0.4118, 0.4353]]],\n",
              " \n",
              " \n",
              "         ...,\n",
              " \n",
              " \n",
              "         [[[0.0941, 0.0941, 0.0863,  ..., 0.2196, 0.1373, 0.0980],\n",
              "           [0.0745, 0.1098, 0.0980,  ..., 0.2157, 0.1490, 0.1412],\n",
              "           [0.0902, 0.1216, 0.1137,  ..., 0.1294, 0.1294, 0.1647],\n",
              "           ...,\n",
              "           [0.1529, 0.1843, 0.2392,  ..., 0.1608, 0.2784, 0.2118],\n",
              "           [0.1529, 0.1569, 0.2000,  ..., 0.1294, 0.2627, 0.2392],\n",
              "           [0.1882, 0.1451, 0.1804,  ..., 0.1294, 0.2549, 0.2353]],\n",
              " \n",
              "          [[0.1490, 0.1569, 0.1333,  ..., 0.2314, 0.1569, 0.1373],\n",
              "           [0.1137, 0.1765, 0.1569,  ..., 0.2235, 0.1647, 0.1725],\n",
              "           [0.1490, 0.2000, 0.1961,  ..., 0.1608, 0.1451, 0.1922],\n",
              "           ...,\n",
              "           [0.2863, 0.3725, 0.4078,  ..., 0.3098, 0.4039, 0.3647],\n",
              "           [0.2824, 0.3569, 0.3765,  ..., 0.2745, 0.3922, 0.3961],\n",
              "           [0.3490, 0.3255, 0.3569,  ..., 0.2588, 0.3725, 0.3686]],\n",
              " \n",
              "          [[0.1216, 0.1216, 0.1098,  ..., 0.2157, 0.1451, 0.1255],\n",
              "           [0.1020, 0.1373, 0.1137,  ..., 0.2275, 0.1725, 0.1529],\n",
              "           [0.1098, 0.1373, 0.1255,  ..., 0.1412, 0.1608, 0.1725],\n",
              "           ...,\n",
              "           [0.1137, 0.0980, 0.1725,  ..., 0.1373, 0.2824, 0.2078],\n",
              "           [0.1333, 0.0706, 0.1294,  ..., 0.0941, 0.2431, 0.2157],\n",
              "           [0.1294, 0.0667, 0.0941,  ..., 0.0784, 0.2118, 0.2118]]],\n",
              " \n",
              " \n",
              "         [[[0.3373, 0.3647, 0.1098,  ..., 0.2863, 0.2627, 0.3608],\n",
              "           [0.3216, 0.1686, 0.0667,  ..., 0.2549, 0.1333, 0.2196],\n",
              "           [0.2510, 0.0980, 0.1529,  ..., 0.2118, 0.1333, 0.1569],\n",
              "           ...,\n",
              "           [0.1686, 0.3412, 0.4392,  ..., 0.5098, 0.5020, 0.4667],\n",
              "           [0.1725, 0.3098, 0.3882,  ..., 0.5294, 0.5098, 0.4745],\n",
              "           [0.3333, 0.3804, 0.3529,  ..., 0.5176, 0.5059, 0.4706]],\n",
              " \n",
              "          [[0.3529, 0.3529, 0.0980,  ..., 0.2039, 0.1922, 0.2784],\n",
              "           [0.3373, 0.1725, 0.0667,  ..., 0.1647, 0.0902, 0.1608],\n",
              "           [0.2588, 0.1059, 0.1529,  ..., 0.1451, 0.0980, 0.1216],\n",
              "           ...,\n",
              "           [0.1686, 0.3216, 0.4118,  ..., 0.5098, 0.4941, 0.4745],\n",
              "           [0.1647, 0.2902, 0.3725,  ..., 0.5216, 0.4980, 0.4706],\n",
              "           [0.3216, 0.3569, 0.3451,  ..., 0.5020, 0.4863, 0.4588]],\n",
              " \n",
              "          [[0.3137, 0.2941, 0.0824,  ..., 0.1412, 0.1529, 0.2392],\n",
              "           [0.3137, 0.1608, 0.0706,  ..., 0.1098, 0.0627, 0.1294],\n",
              "           [0.2353, 0.1020, 0.1529,  ..., 0.0941, 0.0745, 0.0863],\n",
              "           ...,\n",
              "           [0.1529, 0.2745, 0.3569,  ..., 0.4824, 0.4745, 0.4667],\n",
              "           [0.1373, 0.2431, 0.3216,  ..., 0.4824, 0.4667, 0.4471],\n",
              "           [0.2745, 0.3020, 0.2980,  ..., 0.4667, 0.4510, 0.4275]]],\n",
              " \n",
              " \n",
              "         [[[0.9647, 0.9412, 0.8392,  ..., 0.2902, 0.3020, 0.3176],\n",
              "           [0.8235, 0.9529, 0.8980,  ..., 0.2941, 0.3098, 0.3255],\n",
              "           [0.5647, 0.6863, 0.6196,  ..., 0.2902, 0.3098, 0.3216],\n",
              "           ...,\n",
              "           [0.7765, 0.4353, 0.2275,  ..., 0.2431, 0.2824, 0.3137],\n",
              "           [0.6549, 0.2431, 0.3333,  ..., 0.3608, 0.5608, 0.6275],\n",
              "           [0.4510, 0.1647, 0.5451,  ..., 0.5451, 0.6549, 0.5725]],\n",
              " \n",
              "          [[0.9647, 0.9333, 0.8314,  ..., 0.1255, 0.1333, 0.1333],\n",
              "           [0.8039, 0.9412, 0.8824,  ..., 0.1294, 0.1373, 0.1333],\n",
              "           [0.5255, 0.6392, 0.5647,  ..., 0.1294, 0.1373, 0.1294],\n",
              "           ...,\n",
              "           [0.7451, 0.4353, 0.2157,  ..., 0.3176, 0.3922, 0.4196],\n",
              "           [0.6275, 0.2510, 0.3333,  ..., 0.4941, 0.7176, 0.7804],\n",
              "           [0.4235, 0.1451, 0.5333,  ..., 0.6745, 0.8000, 0.7137]],\n",
              " \n",
              "          [[0.9490, 0.9098, 0.7804,  ..., 0.1373, 0.1451, 0.1373],\n",
              "           [0.7686, 0.9020, 0.8392,  ..., 0.1373, 0.1490, 0.1412],\n",
              "           [0.4392, 0.5647, 0.5098,  ..., 0.1373, 0.1490, 0.1412],\n",
              "           ...,\n",
              "           [0.6902, 0.2588, 0.1059,  ..., 0.1608, 0.1608, 0.1922],\n",
              "           [0.5647, 0.1059, 0.2667,  ..., 0.2275, 0.4078, 0.4627],\n",
              "           [0.3686, 0.0824, 0.4980,  ..., 0.4471, 0.5529, 0.4627]]]]),\n",
              " tensor([96, 90, 14, 77, 65,  7, 75, 27, 16, 30, 50, 83, 14, 51, 42, 70])]"
            ]
          },
          "execution_count": 46,
          "metadata": {},
          "output_type": "execute_result"
        }
      ],
      "source": [
        "test_item"
      ]
    },
    {
      "cell_type": "code",
      "execution_count": null,
      "metadata": {
        "colab": {
          "base_uri": "https://localhost:8080/"
        },
        "id": "IpD2AeDiwY9V",
        "outputId": "c5783739-f3ac-49d8-b18d-a623a204c6f5"
      },
      "outputs": [
        {
          "data": {
            "text/plain": [
              "list"
            ]
          },
          "execution_count": 47,
          "metadata": {},
          "output_type": "execute_result"
        }
      ],
      "source": [
        "type(test_item)"
      ]
    },
    {
      "cell_type": "code",
      "execution_count": null,
      "metadata": {
        "colab": {
          "base_uri": "https://localhost:8080/"
        },
        "id": "bxkgTCyBwdm9",
        "outputId": "5f0bc5b9-8434-416c-8b2f-93e9dac71581"
      },
      "outputs": [
        {
          "data": {
            "text/plain": [
              "2"
            ]
          },
          "execution_count": 48,
          "metadata": {},
          "output_type": "execute_result"
        }
      ],
      "source": [
        "len(test_item)"
      ]
    },
    {
      "cell_type": "code",
      "execution_count": null,
      "metadata": {
        "colab": {
          "base_uri": "https://localhost:8080/"
        },
        "id": "P8QzJRZswhTH",
        "outputId": "73971e82-ae43-413e-ba25-6d217a01e3e0"
      },
      "outputs": [
        {
          "data": {
            "text/plain": [
              "torch.Size([3, 32, 32])"
            ]
          },
          "execution_count": 49,
          "metadata": {},
          "output_type": "execute_result"
        }
      ],
      "source": [
        "test_item[0][3].shape"
      ]
    },
    {
      "cell_type": "code",
      "execution_count": null,
      "metadata": {
        "colab": {
          "base_uri": "https://localhost:8080/"
        },
        "id": "RQBrrv5jw7Qt",
        "outputId": "adabca85-502d-45d5-b02e-775d95df947c"
      },
      "outputs": [
        {
          "data": {
            "text/plain": [
              "torch.Size([16, 3, 32, 32])"
            ]
          },
          "execution_count": 50,
          "metadata": {},
          "output_type": "execute_result"
        }
      ],
      "source": [
        "test_item[0].shape"
      ]
    },
    {
      "cell_type": "code",
      "execution_count": null,
      "metadata": {
        "id": "Ch9U_zYCw-dt"
      },
      "outputs": [],
      "source": [
        "images_test_np_list=[]\n",
        "labels_test_np_list=[]\n",
        "for image,lebel in test_loader:\n",
        "  images_test_np_list.append(np.array(image.numpy()*255,dtype=np.uint8))\n",
        "  labels_test_np_list.append(label.numpy())"
      ]
    },
    {
      "cell_type": "code",
      "execution_count": null,
      "metadata": {
        "colab": {
          "base_uri": "https://localhost:8080/"
        },
        "id": "IUMBgDGNx7Zx",
        "outputId": "2478a3b0-2687-45d8-960f-0896e6e70ead"
      },
      "outputs": [
        {
          "data": {
            "text/plain": [
              "(16, 3, 32, 32)"
            ]
          },
          "execution_count": 53,
          "metadata": {},
          "output_type": "execute_result"
        }
      ],
      "source": [
        "images_test_np_list[10].shape"
      ]
    },
    {
      "cell_type": "code",
      "execution_count": null,
      "metadata": {
        "colab": {
          "base_uri": "https://localhost:8080/"
        },
        "id": "GpFOvytlyTiJ",
        "outputId": "222de49f-dd38-440b-83b3-009011ab9f91"
      },
      "outputs": [
        {
          "data": {
            "text/plain": [
              "(16,)"
            ]
          },
          "execution_count": 54,
          "metadata": {},
          "output_type": "execute_result"
        }
      ],
      "source": [
        "labels_test_np_list[10].shape"
      ]
    },
    {
      "cell_type": "code",
      "execution_count": null,
      "metadata": {
        "colab": {
          "base_uri": "https://localhost:8080/"
        },
        "id": "8DBDlR5-y1nC",
        "outputId": "2c9b6c79-0e7b-427f-a31a-feb15c06da4d"
      },
      "outputs": [
        {
          "data": {
            "text/plain": [
              "625"
            ]
          },
          "execution_count": 55,
          "metadata": {},
          "output_type": "execute_result"
        }
      ],
      "source": [
        "len(images_test_np_list)"
      ]
    },
    {
      "cell_type": "code",
      "execution_count": null,
      "metadata": {
        "id": "T87TyzGyyZKU"
      },
      "outputs": [],
      "source": [
        "images_test_cat=np.concatenate(images_test_np_list)\n",
        "labels_test_cat=np.concatenate(labels_test_np_list)"
      ]
    },
    {
      "cell_type": "code",
      "execution_count": null,
      "metadata": {
        "colab": {
          "base_uri": "https://localhost:8080/"
        },
        "id": "v9sOSLgmzCp7",
        "outputId": "3f7b08d4-e1b9-4685-b669-581fb46f11cd"
      },
      "outputs": [
        {
          "data": {
            "text/plain": [
              "(10000, 3, 32, 32)"
            ]
          },
          "execution_count": 67,
          "metadata": {},
          "output_type": "execute_result"
        }
      ],
      "source": [
        "images_test_cat.shape"
      ]
    },
    {
      "cell_type": "code",
      "execution_count": null,
      "metadata": {
        "id": "nPzJmV7nzwIr"
      },
      "outputs": [],
      "source": [
        "images_test_list_new=[]\n",
        "for img in images_test_cat:\n",
        "  images_test_list_new.append(np.moveaxis(img,0,-1))"
      ]
    },
    {
      "cell_type": "code",
      "execution_count": null,
      "metadata": {
        "colab": {
          "base_uri": "https://localhost:8080/"
        },
        "id": "i08TgraW0FjR",
        "outputId": "b276c9fe-a1b9-48f3-b9f5-6bf1ceff8b9d"
      },
      "outputs": [
        {
          "data": {
            "text/plain": [
              "(32, 32, 3)"
            ]
          },
          "execution_count": 69,
          "metadata": {},
          "output_type": "execute_result"
        }
      ],
      "source": [
        "images_test_list_new[10].shape"
      ]
    },
    {
      "cell_type": "code",
      "execution_count": null,
      "metadata": {
        "id": "DNZ5RpBd0MCI"
      },
      "outputs": [],
      "source": [
        "images_test_np=np.array(images_test_list_new)"
      ]
    },
    {
      "cell_type": "code",
      "execution_count": null,
      "metadata": {
        "id": "l0c0p6qW0Zlz"
      },
      "outputs": [],
      "source": [
        "images_test_to_plot=images_test_np[:9]"
      ]
    },
    {
      "cell_type": "code",
      "execution_count": null,
      "metadata": {
        "colab": {
          "base_uri": "https://localhost:8080/",
          "height": 268
        },
        "id": "Kxtcl3Qy0ktJ",
        "outputId": "5507ef00-1af5-4a57-a96a-9f31fda67190"
      },
      "outputs": [
        {
          "data": {
            "image/png": "[encoded data removed]",
            "text/plain": [
              "<Figure size 300x300 with 9 Axes>"
            ]
          },
          "metadata": {},
          "output_type": "display_data"
        }
      ],
      "source": [
        "fig ,axes=plt.subplots(3,3,figsize=(3,3))\n",
        "for i , ax in enumerate(axes.flat):\n",
        "  ax.imshow(images_test_to_plot[i])\n",
        "  ax.axis('off')\n",
        "plt.show()"
      ]
    },
    {
      "cell_type": "code",
      "execution_count": null,
      "metadata": {
        "colab": {
          "base_uri": "https://localhost:8080/"
        },
        "id": "Ubspjk8I1eGc",
        "outputId": "f382e2a7-029f-4a51-cd62-8a25e8e77db7"
      },
      "outputs": [
        {
          "data": {
            "text/plain": [
              "array([45, 48, 20, 34, 87, 64, 26, 16, 53])"
            ]
          },
          "execution_count": 75,
          "metadata": {},
          "output_type": "execute_result"
        }
      ],
      "source": [
        "labels_test_cat[:9]"
      ]
    },
    {
      "cell_type": "code",
      "execution_count": null,
      "metadata": {
        "colab": {
          "base_uri": "https://localhost:8080/"
        },
        "id": "7bAomdos1U4S",
        "outputId": "20a6d73d-5b93-4df7-c5d5-d025e80ef1ee"
      },
      "outputs": [
        {
          "data": {
            "text/plain": [
              "(10000, 32, 32, 3)"
            ]
          },
          "execution_count": 76,
          "metadata": {},
          "output_type": "execute_result"
        }
      ],
      "source": [
        "images_test_np.shape"
      ]
    },
    {
      "cell_type": "code",
      "execution_count": null,
      "metadata": {
        "colab": {
          "base_uri": "https://localhost:8080/"
        },
        "id": "n2h7RzsL2Tl0",
        "outputId": "deba0f37-e4c5-4850-d6f9-9954283ac97b"
      },
      "outputs": [
        {
          "data": {
            "text/plain": [
              "122.24118916015625"
            ]
          },
          "execution_count": 77,
          "metadata": {},
          "output_type": "execute_result"
        }
      ],
      "source": [
        "images_test_np.mean()"
      ]
    },
    {
      "cell_type": "code",
      "execution_count": null,
      "metadata": {
        "colab": {
          "base_uri": "https://localhost:8080/"
        },
        "id": "mh15iNID2awX",
        "outputId": "66c04ed9-b9b5-4075-f402-0245a780975b"
      },
      "outputs": [
        {
          "data": {
            "text/plain": [
              "68.63056877656643"
            ]
          },
          "execution_count": 78,
          "metadata": {},
          "output_type": "execute_result"
        }
      ],
      "source": [
        "images_test_np.std()"
      ]
    },
    {
      "cell_type": "code",
      "execution_count": null,
      "metadata": {
        "colab": {
          "base_uri": "https://localhost:8080/"
        },
        "id": "XPBdEiXU2dcC",
        "outputId": "d355f82b-a117-4b47-bfda-f75c3bc4efc9"
      },
      "outputs": [
        {
          "data": {
            "text/plain": [
              "117.0"
            ]
          },
          "execution_count": 79,
          "metadata": {},
          "output_type": "execute_result"
        }
      ],
      "source": [
        "np.median(images_test_np)"
      ]
    },
    {
      "cell_type": "code",
      "execution_count": null,
      "metadata": {
        "colab": {
          "base_uri": "https://localhost:8080/"
        },
        "id": "H_4OtjZh2hoU",
        "outputId": "6ee907f6-bb67-447a-fb57-d8476a9cb00d"
      },
      "outputs": [
        {
          "data": {
            "text/plain": [
              "0"
            ]
          },
          "execution_count": 80,
          "metadata": {},
          "output_type": "execute_result"
        }
      ],
      "source": [
        "np.min(images_test_np)"
      ]
    },
    {
      "cell_type": "code",
      "execution_count": null,
      "metadata": {
        "colab": {
          "base_uri": "https://localhost:8080/"
        },
        "id": "hMnOspGa2lZq",
        "outputId": "0c273876-4c7b-4548-b24f-43389145e5aa"
      },
      "outputs": [
        {
          "data": {
            "text/plain": [
              "255"
            ]
          },
          "execution_count": 81,
          "metadata": {},
          "output_type": "execute_result"
        }
      ],
      "source": [
        "np.max(images_test_np)"
      ]
    },
    {
      "cell_type": "code",
      "execution_count": null,
      "metadata": {
        "colab": {
          "base_uri": "https://localhost:8080/"
        },
        "id": "94Jixmws2oE1",
        "outputId": "632ae3f6-9d8e-42a5-9a7c-9b52b41a224c"
      },
      "outputs": [
        {
          "name": "stderr",
          "output_type": "stream",
          "text": [
            "100%|██████████| 10000/10000 [01:32<00:00, 108.10it/s]\n"
          ]
        }
      ],
      "source": [
        "cifar_100_test_hist=np.zeros(256,dtype=np.int32)\n",
        "for img in tqdm.tqdm(images_test_np):\n",
        "  for i in range(img.shape[0]):\n",
        "    for j in range(img.shape[1]):\n",
        "      for c in range(img.shape[2]):\n",
        "        intensity=img[i,j,c]\n",
        "        cifar_100_test_hist[intensity]+=1"
      ]
    },
    {
      "cell_type": "code",
      "execution_count": null,
      "metadata": {
        "colab": {
          "base_uri": "https://localhost:8080/",
          "height": 430
        },
        "id": "rjyKUZ7H3RkC",
        "outputId": "a854c188-e369-4239-dfc5-047336a41cd4"
      },
      "outputs": [
        {
          "data": {
            "image/png": "[encoded data removed]",
            "text/plain": [
              "<Figure size 640x480 with 1 Axes>"
            ]
          },
          "metadata": {},
          "output_type": "display_data"
        }
      ],
      "source": [
        "plt.plot(cifar_100_test_hist)\n",
        "plt.show()"
      ]
    },
    {
      "cell_type": "code",
      "execution_count": null,
      "metadata": {
        "id": "DcARjDnj3mzs"
      },
      "outputs": [],
      "source": []
    }
  ],
  "metadata": {
    "colab": {
      "provenance": []
    },
    "kernelspec": {
      "display_name": "Python 3",
      "name": "python3"
    },
    "language_info": {
      "name": "python"
    }
  },
  "nbformat": 4,
  "nbformat_minor": 0
}
